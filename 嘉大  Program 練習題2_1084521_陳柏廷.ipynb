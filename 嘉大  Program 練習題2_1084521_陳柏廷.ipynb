{
 "cells": [
  {
   "cell_type": "markdown",
   "metadata": {},
   "source": [
    "# 基礎程式設計107學年度第1學期 程式 練習題2  系別：資管系 學號：1084521 姓名：陳柏廷"
   ]
  },
  {
   "cell_type": "markdown",
   "metadata": {},
   "source": [
    "\n",
    "# 1. 輸入一個整數N，求N!=？"
   ]
  },
  {
   "cell_type": "code",
   "execution_count": null,
   "metadata": {},
   "outputs": [],
   "source": [
    "# 虛擬碼\n",
    "input ans , n \n",
    "repeat until stop\n",
    "for num in range 1 ~n\n",
    "output ans "
   ]
  },
  {
   "cell_type": "code",
   "execution_count": 2,
   "metadata": {},
   "outputs": [
    {
     "name": "stdout",
     "output_type": "stream",
     "text": [
      "enter a number 7\n",
      "5040\n"
     ]
    }
   ],
   "source": [
    "# Problem 1\n",
    "# Name: Your name\n",
    "# Time: 3:30 \n",
    "# ... your code goes here ... \n",
    "ans= 1\n",
    "n = int(input('enter a number '))\n",
    "for num in range(1,n+1):\n",
    "    ans = ans*num\n",
    "print(ans)"
   ]
  },
  {
   "cell_type": "markdown",
   "metadata": {},
   "source": [
    "# 2. 輸入一個整數N，求S(N)=1 - 2\\*\\*2/2! + 3\\*\\*2/3! - 4\\*\\*2/4!‧‧‧N\\*\\*2/N!=？（提示：試寫出一函式來計算N!之值，N!為N的階層等於N\\*(N-1)\\*(N-2)\\* ‧‧‧\\*3\\*2\\*1）"
   ]
  },
  {
   "cell_type": "code",
   "execution_count": null,
   "metadata": {},
   "outputs": [],
   "source": [
    "# 虛擬碼\n",
    "\n",
    "input n , N , aaa \n",
    "j(num) = repeat until stop for num in range(1,N+1) then \n",
    "ans <- ans*num\n",
    "j(num)<-ans\n",
    "repeat until stop\n",
    "while N<n then \n",
    "N = N+2\n",
    "z = j(num)/N\n",
    "aaa <- aaa -(N-1)**2/z + N**2/j(num)  \n",
    "if n%2 ==0 then \n",
    "aaa = aaa  <- aaa - ((N)**2/(j(num)))\n",
    "output aaa+1"
   ]
  },
  {
   "cell_type": "code",
   "execution_count": 21,
   "metadata": {},
   "outputs": [
    {
     "name": "stdout",
     "output_type": "stream",
     "text": [
      "enter a number 1\n",
      "1\n"
     ]
    }
   ],
   "source": [
    "# Problem 2\n",
    "# Name: Your name\n",
    "# Time: 3:30 \n",
    "# ... your code goes here ... \n",
    "n = int(input('enter a number '))\n",
    "N = 1\n",
    "aaa = 0\n",
    "def j(num):\n",
    "    ans = 1\n",
    "    for num in range(1,N+1):\n",
    "        ans = ans*num\n",
    "    return ans\n",
    "while N<n:\n",
    "    N = N+2       \n",
    "    z = j(num)/N\n",
    "\n",
    "    aaa = aaa -(N-1)**2/z + N**2/j(num)     \n",
    "if  n%2 == 0:\n",
    "        \n",
    "        aaa  = aaa - ((N)**2/(j(num)))\n",
    "        \n",
    "print(aaa+1)"
   ]
  },
  {
   "cell_type": "markdown",
   "metadata": {},
   "source": [
    "# 3. 3.\t輸入整數y及n、浮點數p (0≦p≦1)，求F(y;n,p)=Σ (n!·p\\*\\*x·(1-p)\\*\\*(n-x) )/((n-x)! ·x!)=？x=0,1,...,y（提示：試寫出2個函式來計算階層及次方）"
   ]
  },
  {
   "cell_type": "code",
   "execution_count": null,
   "metadata": {},
   "outputs": [],
   "source": [
    "# 虛擬碼\n",
    "input y,n,p\n",
    "z(n) = reapeat until done for n in range(1,n+1) then \n",
    "ans <-ans *n\n",
    "k(n)<-ans\n",
    "k(n) = reapeat until done for n in range(1,n-number+1) then \n",
    "ans <-ans *n\n",
    "k(n)<-ans\n",
    "l(n) = reapeat until done for n in range(1,number+1) then \n",
    "ans <-ans *n\n",
    "l(n)<-ans\n",
    "repeat until stop \n",
    "for number in range(1,y+1)\n",
    "ans <- 0 \n",
    "ans<-ans+(z(n) * (p**number)*((1-p)**(n-number)))/(k(n)*l(n))\n",
    "output ans\n",
    "\n"
   ]
  },
  {
   "cell_type": "code",
   "execution_count": 10,
   "metadata": {},
   "outputs": [
    {
     "name": "stdout",
     "output_type": "stream",
     "text": [
      "enter a number 3\n",
      "enter a number 2\n",
      "enter a number 0.5\n",
      "0.08333333333333333\n"
     ]
    }
   ],
   "source": [
    "# Problem 3\n",
    "# Name: Your name\n",
    "# Time: 3:30 \n",
    "# ... your code goes here ... \n",
    "y = int(input('enter a number '))\n",
    "n = int(input('enter a number '))\n",
    "p = float(input('enter a number '))\n",
    "def z(n):\n",
    "    ans = 1\n",
    "    for n in range(1,n+1):\n",
    "        ans = ans *n\n",
    "    return ans \n",
    "def k(n):\n",
    "    ans  = 1\n",
    "    \n",
    "    for n in range(1,n-number+1):\n",
    "        ans = ans * n \n",
    "    return ans\n",
    "def l(n):\n",
    "    ans = 1\n",
    "    for n in range(1,number +1):\n",
    "        ans = ans *n\n",
    "    return ans \n",
    "for number in range(0,y+1):\n",
    "    ans = 0\n",
    "    ans = ans + (z(n) * (p**number)*((1-p)**(n-number)))/(k(n)*l(n))\n",
    "    \n",
    "print(ans)"
   ]
  },
  {
   "cell_type": "markdown",
   "metadata": {},
   "source": [
    "# 4. 設計一身分證檢查程式：\n",
    "* 設定模數=10\n",
    "* 設定加權權數=1 9 8 7 6 5 4 3 2 1\n",
    "* 身分證每位數與加權權數各別相乘後累加\n",
    "* 將累加值除以模數求其餘數\n",
    "* 模數--餘數=檢查碼<br>\n",
    "\n",
    "<table align=center border=1>\n",
    "<tr align=center><td>字母<td>A<td>B<td>C<td>D<td>E<td>F<td>G<td>H<td>J<td>K<td>L<td>M<td>N\n",
    "<tr><td>數字<td>10<td>11<td>12<td>13<td>14<td>15<td>16<td>17<td>18<td>19<td>20<td>21<td>22\n",
    "<tr align=center><td>字母<td>P<td>Q<td>R<td>S<td>T<td>U<td>V<td>X<td>Y<td>W<td>Z<td>I<td>O\n",
    "<tr><td>數字<td>23<td>24<td>25<td>26<td>27<td>28<td>29<td>30<td>31<td>32<td>33<td>34<td>35\n",
    "</table>\n",
    "\n"
   ]
  },
  {
   "cell_type": "code",
   "execution_count": null,
   "metadata": {},
   "outputs": [],
   "source": [
    "# 虛擬碼\n",
    "input num ,n ,z,ans1\n",
    "repeat until stop \n",
    "for i in num[1:]\n",
    "i<- int(i)\n",
    "ans1 <- ans1 + i*z\n",
    "z<-z-1\n",
    "input dic\n",
    "ans = (ans1+dic[k])%dic[k]\n",
    "fin = dic[k] - ans\n",
    "ouput fin \n",
    "\n",
    "\n",
    "\n"
   ]
  },
  {
   "cell_type": "code",
   "execution_count": 3,
   "metadata": {},
   "outputs": [
    {
     "name": "stdout",
     "output_type": "stream",
     "text": [
      "enter 10 number a131381335\n",
      "8\n"
     ]
    }
   ],
   "source": [
    "# Problem 4\n",
    "# Name: Your name\n",
    "# Time: 3:30 \n",
    "# ... your code goes here ... \n",
    "num = str(input('enter 10 number '))\n",
    "n = 0\n",
    "z = 9\n",
    "ans1= 0\n",
    "for i in num[1:]:\n",
    "    i = int(i)\n",
    "    ans1 = ans1 + i*z\n",
    "    z = z-1\n",
    "#print(ans1)\n",
    "k = num[0].upper()\n",
    "dic = {'A' : 10 ,'B' : 11,'C':12,'D' : 13,'E' : 14 ,'F':15,'G' :16,'H':17,'J':18,'K':19,'L':20,'M':21,'N':22,'P':23,'Q':24,\n",
    "       'R':25,'S':26,'T':27,'U':28,'V':29,'X':30,'Y':31,'W':32,'Z':33,'I':34,'O':35}\n",
    "#print(dic[k])\n",
    "ans = (ans1+dic[k])%dic[k]\n",
    "fin = dic[k] - ans\n",
    "print(fin)\n",
    "\n",
    "\n",
    "#for i in 'ABCDEFGHJKLMNPQRSTUVXYZIO':\n",
    "    #g= g+1\n",
    "    #i = g\n",
    "#print(i)"
   ]
  },
  {
   "cell_type": "markdown",
   "metadata": {},
   "source": [
    "# 5. 求e的近似值\n",
    "設計一程式輸入一浮點數delta，試計算exp(1) 與e的近似值之差值小於delta時之最小k值，e的近似值定義如下：<br>\n",
    "e=∑ 1/k!=1+1+1/2+1/6+⋯(k=0, 1, 2, …)<br>\n",
    "程式輸出的第一個值是e的近似值，第二個是k。<br>\n",
    "(提示：Python加上from math import exp，可計算出exp(1)為2.718281828459045)<br>\n",
    "\n",
    "Input<br>\n",
    "delta<br>\n",
    "Output<br>\n",
    "e<br>\n",
    "k<br>\n",
    "<br>\n",
    "Sample Input<br>\n",
    "0.01<br>\n",
    "Sample Output<br>\n",
    "2.708333333333333<br>\n",
    "4<br>\n",
    "<br>\n",
    "Sample Input<br>\n",
    "0.001<br>\n",
    "Sample Output<br>\n",
    "2.7180555555555554<br>\n",
    "6<br>\n",
    "<br>\n",
    "Sample Input<br>\n",
    "0.0001<br>\n",
    "Sample Output<br>\n",
    "2.7182539682539684<br>\n",
    "7<br>\n",
    " \n"
   ]
  },
  {
   "cell_type": "code",
   "execution_count": null,
   "metadata": {},
   "outputs": [],
   "source": [
    "# 虛擬碼\n",
    "input delta , e , n \n",
    "from math import exp \n",
    "z(n) = reapeat until done for n in range(1,n+1) then \n",
    "ans <-ans *n\n",
    "repeat until stop \n",
    "while exp(1)-e > delta :\n",
    "n <- n+1\n",
    "e =e +1/z(n)\n",
    "output e , n"
   ]
  },
  {
   "cell_type": "code",
   "execution_count": 3,
   "metadata": {},
   "outputs": [
    {
     "name": "stdout",
     "output_type": "stream",
     "text": [
      "enter a number for delta  0.0001\n",
      "2.7182539682539684\n",
      "7\n"
     ]
    }
   ],
   "source": [
    "# Problem 5\n",
    "# Name: Your name\n",
    "# Time: 3:30 \n",
    "# ... your code goes here ... \n",
    "delta = float(input('enter a number for delta  '))\n",
    "e = 1\n",
    "n = 0\n",
    "from math import exp  \n",
    "def z(n):\n",
    "    ans = 1\n",
    "    for n in range(1,n+1):\n",
    "        ans = ans *n\n",
    "    return ans \n",
    "\n",
    "while exp(1)-e > delta :\n",
    "    n =n +1\n",
    "    e =e +1/z(n)\n",
    "print(e)\n",
    "print(n)"
   ]
  },
  {
   "cell_type": "code",
   "execution_count": null,
   "metadata": {},
   "outputs": [],
   "source": []
  }
 ],
 "metadata": {
  "kernelspec": {
   "display_name": "Python 3",
   "language": "python",
   "name": "python3"
  },
  "language_info": {
   "codemirror_mode": {
    "name": "ipython",
    "version": 3
   },
   "file_extension": ".py",
   "mimetype": "text/x-python",
   "name": "python",
   "nbconvert_exporter": "python",
   "pygments_lexer": "ipython3",
   "version": "3.7.3"
  }
 },
 "nbformat": 4,
 "nbformat_minor": 2
}
