{
 "cells": [
  {
   "cell_type": "markdown",
   "metadata": {},
   "source": [
    "# 基礎程式設計107學年度第1學期 程式 3  系別： 資管系 學號：1084521 姓名：陳柏廷"
   ]
  },
  {
   "cell_type": "markdown",
   "metadata": {},
   "source": [
    "## 1. Exercise: square\n",
    "### Write a Python function, square, that takes in one number and returns the square of that number. \n",
    "This function takes in one number and returns one number.\n"
   ]
  },
  {
   "cell_type": "code",
   "execution_count": 4,
   "metadata": {},
   "outputs": [
    {
     "name": "stdout",
     "output_type": "stream",
     "text": [
      "enter a number for solving4\n",
      "16.0\n"
     ]
    }
   ],
   "source": [
    "# Problem 1\n",
    "# Name: Your name\n",
    "# Time: 3:30 \n",
    "# ... your code goes here ...  \n",
    "def square(x):\n",
    "    '''\n",
    "    x: int or float.\n",
    "    '''\n",
    "    x = float(input('enter a number for solving'))\n",
    "    ans = x ** 2 \n",
    "    return ans\n",
    "    \n",
    "print (square(0))       \n"
   ]
  },
  {
   "cell_type": "markdown",
   "metadata": {},
   "source": [
    "## 2. Exercise: eval quadratic\n",
    "###  Write a Python function, evalQuadratic(a, b, c, x), that returns the value of the quadratic a⋅x2+b⋅x+c.\n",
    "This function takes in four numbers and returns a single number.\n"
   ]
  },
  {
   "cell_type": "code",
   "execution_count": 12,
   "metadata": {},
   "outputs": [
    {
     "name": "stdout",
     "output_type": "stream",
     "text": [
      "enter a number for a 2\n",
      "enter a number for b 3\n",
      "enter a number for c 4\n",
      "(1.7958315233127191, -7.795831523312719)\n"
     ]
    }
   ],
   "source": [
    "# Problem 2\n",
    "# Name: Your name\n",
    "# Time: 3:30 \n",
    "# ... your code goes here ... \n",
    "import math \n",
    "def evalQuadratic(a, b, c, x):\n",
    "    '''\n",
    "    a, b, c: numerical values for the coefficients of a quadratic equation\n",
    "    x: numerical value at which to evaluate the quadratic.\n",
    "    '''\n",
    "    # Your code here\n",
    "    a = int(input('enter a number for a ')) \n",
    "    b = int(input('enter a number for b ')) \n",
    "    c = int(input('enter a number for c '))\n",
    "    z = math.sqrt(abs(b**2-4*a*c))\n",
    "    ans1 = -b+z/2*a\n",
    "    ans2 = -b-z/2*a\n",
    "    return ans1 , ans2\n",
    "print(evalQuadratic(0, 0, 0, 0))\n",
    "\n",
    "\n"
   ]
  },
  {
   "cell_type": "markdown",
   "metadata": {},
   "source": [
    "## 3. Exercise: fourth power\n",
    "### Write a Python function, fourthPower, that takes in one number and returns that value raised to the fourth power.\n",
    "You should use the square procedure that you defined in an earlier exercise.<br>\n",
    "This function takes in one number and returns one number.\n"
   ]
  },
  {
   "cell_type": "code",
   "execution_count": 14,
   "metadata": {},
   "outputs": [
    {
     "name": "stdout",
     "output_type": "stream",
     "text": [
      "enter  a number to solve3.2\n",
      "104.85760000000002\n"
     ]
    }
   ],
   "source": [
    "# Problem 3\n",
    "# Name: Your name\n",
    "# Time: 3:30 \n",
    "# ... your code goes here ... \n",
    "x = float(input('enter  a number to solve'))\n",
    "def fourthPower(x):\n",
    "    '''\n",
    "    x: int or float.\n",
    "    '''\n",
    "    # Your code here\n",
    "    z = x**4\n",
    "    return z\n",
    "print(fourthPower(x))\n",
    "\n"
   ]
  },
  {
   "cell_type": "markdown",
   "metadata": {},
   "source": [
    "## 4. Exercise: odd\n",
    "### Write a Python function, odd, that takes in one number and returns True when the number is odd and False otherwise.\n",
    "You should use the % (mod) operator, not if.<br>\n",
    "This function takes in one number and returns a boolean.\n"
   ]
  },
  {
   "cell_type": "code",
   "execution_count": 48,
   "metadata": {},
   "outputs": [
    {
     "name": "stdout",
     "output_type": "stream",
     "text": [
      "enter a number to solve11\n",
      "True\n"
     ]
    }
   ],
   "source": [
    "# Problem 4\n",
    "# Name: Your name\n",
    "# Time: 3:30 \n",
    "# ... your code goes here ... \n",
    "x = int(input('enter a number to solve '))\n",
    "def odd(x):\n",
    "    '''\n",
    "    x: int\n",
    "    returns: True if x is odd, False otherwise\n",
    "    '''\n",
    "    # Your code here\n",
    "    z = str(x)\n",
    "    jus  = z[-1]\n",
    "    ans = jus =='1'or jus  =='3' or jus =='5' or jus=='7' or jus=='9'\n",
    "    return ans\n",
    "print(odd(x))\n",
    "\n",
    "    "
   ]
  },
  {
   "cell_type": "markdown",
   "metadata": {},
   "source": [
    "## 5. Exercise: iter power\n",
    "### Write an iterative function iterPower(base, exp) that calculates the exponential baseexp by simply using successive multiplication. For example, iterPower(base, exp) should compute baseexp by multiplying base times itself exp times. Write such a function below.\n",
    "This function should take in two values - base can be a float or an integer; exp will be an integer ≥ 0. It should return one numerical value. Your code must be iterative - use of the ** operator is not allowed.\n"
   ]
  },
  {
   "cell_type": "code",
   "execution_count": 21,
   "metadata": {},
   "outputs": [
    {
     "name": "stdout",
     "output_type": "stream",
     "text": [
      "enter a number for base 3.2\n",
      "enter a number that >= 0  3\n",
      "<class 'float'> 32.76800000000001\n"
     ]
    }
   ],
   "source": [
    "# Problem 5\n",
    "# Name: Your name\n",
    "# Time: 3:30 \n",
    "# ... your code goes here ... \n",
    "base = float(input('enter a number for base '))\n",
    "exp  = int(input('enter a number that >= 0  '))\n",
    "def iterPower(base, exp):\n",
    "    '''\n",
    "    base: int or float.\n",
    "    exp: int >= 0\n",
    "    returns: int or float, base^exp\n",
    "    '''\n",
    "    # Your code here\n",
    "    if base == int(base) :\n",
    "        base = int(base)\n",
    "    ans = base\n",
    "    if exp == 0:\n",
    "        ans = 1\n",
    "    while exp>1:\n",
    "        ans = ans * base\n",
    "        exp = exp -1\n",
    "    return ans\n",
    "print(type(iterPower(base, exp)),iterPower(base, exp))\n"
   ]
  },
  {
   "cell_type": "markdown",
   "metadata": {},
   "source": [
    "## 6. Exercise: power recur\n",
    "### In Problem 5, we computed an exponential by iteratively executing successive multiplications. We can use the same idea, but in a recursive function.\n",
    "Write a function recurPower(base, exp) which computes baseexp by recursively calling itself to solve a smaller version of the same problem, and then multiplying the result by base to solve the initial problem.<br>\n",
    "This function should take in two values - base can be a float or an integer; exp will be an integer ≥0. It should return one numerical value. Your code must be recursive - use of the ** operator or looping constructs is not allowed.\n"
   ]
  },
  {
   "cell_type": "code",
   "execution_count": 2,
   "metadata": {},
   "outputs": [
    {
     "name": "stdout",
     "output_type": "stream",
     "text": [
      "enter a number for base 12\n",
      "enter a number for exp 2\n",
      "144\n"
     ]
    }
   ],
   "source": [
    "# Problem 6\n",
    "# Name: Your name\n",
    "# Time: 3:30 \n",
    "# ... your code goes here ... \n",
    "def iterPower(base, exp):\n",
    "    '''\n",
    "    base: int or float\n",
    "    exp: int >= 0\n",
    "    returns: int or float, base^exp\n",
    "    '''\n",
    "    # Your code here\n",
    "    if base == int(base) :\n",
    "        base = int(base)\n",
    "    if exp == 0 :\n",
    "        return 1\n",
    "    else :\n",
    "        return (base * iterPower(base, exp-1))\n",
    "\n",
    "print( iterPower( float(input('enter a number for base ')), int(input('enter a number for exp ')) ) )\n",
    "          \n",
    "    \n"
   ]
  },
  {
   "cell_type": "markdown",
   "metadata": {},
   "source": [
    "## 7. Exercise: gcd iter\n",
    "### The greatest common divisor of two positive integers is the largest integer that divides each of them without remainder. For example,\n",
    "* gcd(2, 12) = 2\n",
    "* gcd(6, 12) = 6\n",
    "* gcd(9, 12) = 3\n",
    "* gcd(17, 12) = 1<br>\n",
    "\n",
    "Write an iterative function, gcdIter(a, b), that implements this idea. One easy way to do this is to begin with a test value equal to the smaller of the two input arguments, and iteratively reduce this test value by 1 until you either reach a case where the test divides both a and bwithout remainder, or you reach 1.\n"
   ]
  },
  {
   "cell_type": "code",
   "execution_count": 12,
   "metadata": {},
   "outputs": [
    {
     "name": "stdout",
     "output_type": "stream",
     "text": [
      "enter a number for a 9\n",
      "enter a number for b 12\n",
      "3\n"
     ]
    }
   ],
   "source": [
    "# Problem 7\n",
    "# Name: Your name\n",
    "# Time: 3:30 \n",
    "# ... your code goes here ... \n",
    "a = int(input('enter a number for a '))\n",
    "b = int(input('enter a number for b '))\n",
    "def gcdIter(a, b):\n",
    "    '''\n",
    "    a, b: positive integers\n",
    "    returns: a positive integer, the greatest common divisor of a & b.\n",
    "    '''\n",
    "    # Your code here\n",
    "    if a>b:\n",
    "        for numa in range(1,b+1) :\n",
    "            if a%numa == 0 and b%numa == 0:\n",
    "                ans = numa\n",
    "    if b>a:\n",
    "        for numa in range(1,a+1) :\n",
    "            if a%numa == 0 and b%numa == 0:\n",
    "                ans = numa\n",
    "    return ans\n",
    "print(gcdIter(a, b))\n"
   ]
  },
  {
   "cell_type": "markdown",
   "metadata": {},
   "source": [
    "## 8. Exercise: gcd recur\n",
    "### The greatest common divisor of two positive integers is the largest integer that divides each of them without remainder. For example,\n",
    "* gcd(2, 12) = 2\n",
    "* gcd(6, 12) = 6\n",
    "* gcd(9, 12) = 3\n",
    "* gcd(17, 12) = 1<br>\n",
    "\n",
    "A clever mathematical trick (due to Euclid) makes it easy to find greatest common divisors. Suppose that aand b are two positive integers:\n",
    "* If b = 0, then the answer is a\n",
    "* Otherwise, gcd(a, b) is the same as gcd(b, a % b)<br>\n",
    "\n",
    "Write a function gcdRecur(a, b) that implements this idea recursively. This function takes in two positive integers and returns one integer.\n"
   ]
  },
  {
   "cell_type": "code",
   "execution_count": 8,
   "metadata": {},
   "outputs": [
    {
     "name": "stdout",
     "output_type": "stream",
     "text": [
      "enter a number for a 2\n",
      "enter a number for b 12\n",
      "2\n"
     ]
    }
   ],
   "source": [
    "# Problem 8\n",
    "# Name: Your name\n",
    "# Time: 3:30 \n",
    "# ... your code goes here ... \n",
    "\n",
    "def gcdRecur(a, b):\n",
    "    '''\n",
    "    a, b: positive integers\n",
    "    returns: a positive integer, the greatest common divisor of a & b.\n",
    "    '''\n",
    "    # Your code here\n",
    "    if b == 0:\n",
    "        return a\n",
    "    else :\n",
    "        return gcdRecur(b, a%b)\n",
    "print( gcdRecur( int(input('enter a number for a ')), int(input('enter a number for b ')) ) )\n",
    "\n"
   ]
  }
 ],
 "metadata": {
  "kernelspec": {
   "display_name": "Python 3",
   "language": "python",
   "name": "python3"
  },
  "language_info": {
   "codemirror_mode": {
    "name": "ipython",
    "version": 3
   },
   "file_extension": ".py",
   "mimetype": "text/x-python",
   "name": "python",
   "nbconvert_exporter": "python",
   "pygments_lexer": "ipython3",
   "version": "3.7.3"
  }
 },
 "nbformat": 4,
 "nbformat_minor": 2
}
