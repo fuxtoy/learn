{
 "cells": [
  {
   "cell_type": "markdown",
   "metadata": {},
   "source": [
    "# 基礎程式設計108學年度第1學期 程式1  系別：資管系 學號：1084521 姓名：陳柏廷"
   ]
  },
  {
   "cell_type": "markdown",
   "metadata": {},
   "source": [
    "## Problem 1: Exercise: hello world\n",
    "Write a piece of Python code that prints out the string hello world"
   ]
  },
  {
   "cell_type": "code",
   "execution_count": 1,
   "metadata": {},
   "outputs": [
    {
     "name": "stdout",
     "output_type": "stream",
     "text": [
      "hello world\n"
     ]
    }
   ],
   "source": [
    "# Problem 1\n",
    "# Name: Your name\n",
    "# Time: 3:30 \n",
    "# ... your code goes here ... \n",
    "print('hello world')"
   ]
  },
  {
   "cell_type": "markdown",
   "metadata": {},
   "source": [
    "## Problem 2: Exercise: happy\n",
    "Write a piece of Python code that prints out the string 'hello world' if the value of an integer variable, happy, is strictly greater than 2."
   ]
  },
  {
   "cell_type": "code",
   "execution_count": 2,
   "metadata": {},
   "outputs": [
    {
     "name": "stdout",
     "output_type": "stream",
     "text": [
      "enter a number for happy2\n"
     ]
    }
   ],
   "source": [
    "# Problem 2\n",
    "# Name: Your name\n",
    "# Time: 3:30 \n",
    "# ... your code goes here ... \n",
    "happy = int(input('enter a number for happy' ))\n",
    "if happy>2:\n",
    "    print('hello world')"
   ]
  },
  {
   "cell_type": "markdown",
   "metadata": {},
   "source": [
    "## Problem 3: Exercise: vara varb\n",
    "Assume that two variables, varA and varB, are assigned values, either numbers or strings. Write a piece of Python code that evaluates varA and varB, and then prints out one of the following messages:\n",
    "* \"string involved\" if either varA or varB are strings\n",
    "* \"bigger\" if varA is larger than varB\n",
    "* \"equal\" if varA is equal to varB\n",
    "* \"smaller\" if varA is smaller than varB\n"
   ]
  },
  {
   "cell_type": "raw",
   "metadata": {},
   "source": []
  },
  {
   "cell_type": "code",
   "execution_count": 3,
   "metadata": {},
   "outputs": [
    {
     "name": "stdout",
     "output_type": "stream",
     "text": [
      "enter a variable for varA 2\n",
      "enter a variable for varB 3\n",
      "string involved\n",
      "smaller\n"
     ]
    },
    {
     "data": {
      "text/plain": [
       "str"
      ]
     },
     "execution_count": 3,
     "metadata": {},
     "output_type": "execute_result"
    }
   ],
   "source": [
    "# Problem 3\n",
    "# Name: Your name\n",
    "# Time: 3:30 \n",
    "# ... your code goes here ... \n",
    "varA = input('enter a variable for varA ')\n",
    "varB = input('enter a variable for varB ')\n",
    "if type(varA) is str or type(varB) is str:\n",
    "    print('string involved')\n",
    "if varA>varB:\n",
    "    print('bigger')\n",
    "if varA<varB:\n",
    "    print('smaller')\n",
    "if    varA == varB:\n",
    "    print('equal')\n",
    "    \n",
    "    "
   ]
  },
  {
   "cell_type": "markdown",
   "metadata": {},
   "source": [
    "## Problem 4: Exercise: while exercise 1\n",
    "In this problem you'll be given a chance to practice writing some while loops.\n",
    "Convert the following into code that uses a while loop.\n",
    "1. print 2\n",
    "2. prints 4\n",
    "3. prints 6\n",
    "4. prints 8\n",
    "5. prints 10\n",
    "6. prints Goodbye!\n"
   ]
  },
  {
   "cell_type": "code",
   "execution_count": 2,
   "metadata": {},
   "outputs": [
    {
     "name": "stdout",
     "output_type": "stream",
     "text": [
      "2\n",
      "4\n",
      "6\n",
      "8\n",
      "10\n",
      "Goodbye!\n"
     ]
    }
   ],
   "source": [
    "# Problem 4\n",
    "# Name: Your name\n",
    "# Time: 3:30 \n",
    "# ... your code goes here ... \n",
    "a=0\n",
    "while a<10:\n",
    "    a = a+2\n",
    "    print(a)\n",
    "   print('Goodbye!')    "
   ]
  },
  {
   "cell_type": "markdown",
   "metadata": {},
   "source": [
    "# Problem 5: Exercise: while exercise 2\n",
    "Convert the following into code that uses a while loop.\n",
    "1. prints Hello!\n",
    "2. prints 10\n",
    "3. prints 8\n",
    "4. prints 6\n",
    "5. prints 4\n",
    "6. prints 2"
   ]
  },
  {
   "cell_type": "code",
   "execution_count": 3,
   "metadata": {},
   "outputs": [
    {
     "name": "stdout",
     "output_type": "stream",
     "text": [
      "hello\n",
      "10\n",
      "8\n",
      "6\n",
      "4\n",
      "2\n",
      "0\n"
     ]
    }
   ],
   "source": [
    "# Problem 5\n",
    "# Name: Your name\n",
    "# Time: 3:30 \n",
    "# ... your code goes here ... \n",
    "print(\"hello\")\n",
    "a = 12\n",
    "while a>0:\n",
    "    a = a-2\n",
    "    print(a)    "
   ]
  },
  {
   "cell_type": "markdown",
   "metadata": {},
   "source": [
    "# Problem 6: Exercise: while exercise 3\n",
    "Write a while loop that sums the values 1 through end, inclusive. end is a variable that we define for you. So, for example, if we define end to be 6, your code should print out the result:\n",
    "### 21\n",
    "which is 1 + 2 + 3 + 4 + 5 + 6.<br>\n",
    "Hint: Don't Use A Variable Called 'sum'"
   ]
  },
  {
   "cell_type": "code",
   "execution_count": 22,
   "metadata": {},
   "outputs": [
    {
     "name": "stdout",
     "output_type": "stream",
     "text": [
      "21\n"
     ]
    }
   ],
   "source": [
    "# Problem 6\n",
    "# Name: Your name\n",
    "# Time: 3:30 \n",
    "# ... your code goes here ... \n",
    "a = 0\n",
    "ans = 0\n",
    "while a < 6 :\n",
    "    a = (a+1)\n",
    "    ans = ans + a\n",
    "\n",
    "print(ans)"
   ]
  },
  {
   "cell_type": "markdown",
   "metadata": {},
   "source": [
    "# Problem 7: Exercise: for exercise 1\n",
    "In this problem you'll be given a chance to practice writing some for loops.\n",
    "Convert the following code into code that uses a for loop.\n",
    "1. prints 2\n",
    "2. prints 4\n",
    "3. prints 6\n",
    "4. prints 8\n",
    "5. prints 10\n",
    "6. prints \"Goodbye!\""
   ]
  },
  {
   "cell_type": "code",
   "execution_count": 43,
   "metadata": {},
   "outputs": [
    {
     "name": "stdout",
     "output_type": "stream",
     "text": [
      "2\n",
      "4\n",
      "6\n",
      "8\n",
      "10\n",
      "goodbye!\n"
     ]
    }
   ],
   "source": [
    "# Problem 7\n",
    "# Name: Your name\n",
    "# Time: 3:30 \n",
    "# ... your code goes here ... \n",
    "for num  in range(0,1):\n",
    "    while num<10:\n",
    "        num = num +2\n",
    "        print(num)\n",
    "while num == 10:\n",
    "    print('goodbye!')\n",
    "    break\n",
    "\n"
   ]
  },
  {
   "cell_type": "markdown",
   "metadata": {},
   "source": [
    "# Problem 8: Exercise: for exercise 2\n",
    "Convert the following code into code that uses a for loop.\n",
    "1. prints \"Hello!\"\n",
    "2. prints 10\n",
    "3. prints 8\n",
    "4. prints 6\n",
    "5. prints 4\n",
    "6. prints 2"
   ]
  },
  {
   "cell_type": "code",
   "execution_count": 44,
   "metadata": {},
   "outputs": [
    {
     "name": "stdout",
     "output_type": "stream",
     "text": [
      "hello!\n",
      "10\n",
      "8\n",
      "6\n",
      "4\n",
      "2\n"
     ]
    }
   ],
   "source": [
    "# Problem 8\n",
    "# Name: Your name\n",
    "# Time: 3:30 \n",
    "# ... your code goes here ... \n",
    "print('hello!')\n",
    "for num  in range(12,13):\n",
    "    while num>2:\n",
    "        num = num - 2\n",
    "        print(num)\n",
    "        "
   ]
  },
  {
   "cell_type": "markdown",
   "metadata": {},
   "source": [
    "# Problem 9: Exercise: for exercise 3\n",
    "Write a for loop that sums the values 1 through end, inclusive. end is a variable that we define for you. So, for example, if we define end to be 6, your code should print out the result:\n",
    "### 21\n",
    "which is 1 + 2 + 3 + 4 + 5 + 6.<br>\n",
    "Hint: Don't Use A Variable Called 'sum'"
   ]
  },
  {
   "cell_type": "code",
   "execution_count": 5,
   "metadata": {},
   "outputs": [
    {
     "name": "stdout",
     "output_type": "stream",
     "text": [
      "21\n"
     ]
    }
   ],
   "source": [
    "# Problem 9\n",
    "# Name: Your name\n",
    "# Time: 3:30 \n",
    "# ... your code goes here ... \n",
    "num = 0\n",
    "for a in range(1,7):\n",
    "    num = num+a   \n",
    "print(num)"
   ]
  },
  {
   "cell_type": "markdown",
   "metadata": {},
   "source": [
    "# Problem 10: Exercise 7\n",
    "Assume s is a string of lower case characters.\n",
    "Write a program that counts up the number of vowels contained in the string s. Valid vowels are: 'a', 'e', 'i', 'o', and 'u'. For example, if s = 'azcbobobegghakl', your program should print:\n",
    "### Number of vowels: 5\n"
   ]
  },
  {
   "cell_type": "code",
   "execution_count": 2,
   "metadata": {},
   "outputs": [
    {
     "name": "stdout",
     "output_type": "stream",
     "text": [
      "enter a letter  azcbobobegghakl\n",
      "5\n"
     ]
    }
   ],
   "source": [
    "# Problem 10\n",
    "# Name: Your name\n",
    "# Time: 3:30 \n",
    "# ... your code goes here ... \n",
    "stri= str(input('enter a letter  '))\n",
    "#or e or i or o or u\n",
    "n=-1\n",
    "z=0\n",
    "count = 0\n",
    "a ='a'\n",
    "e = 'e'\n",
    "i = 'i'\n",
    "o = 'o'\n",
    "u = 'u'\n",
    "while z<len(stri):\n",
    "    n = n+1\n",
    "    z = z+1\n",
    "    if stri[n:z] in a :\n",
    "        count = count +1\n",
    "    if stri[n:z] in e :\n",
    "        count = count +1\n",
    "    if stri[n:z] in i :\n",
    "        count = count +1\n",
    "    if stri[n:z] in o :\n",
    "        count = count +1\n",
    "    if stri[n:z] in u :\n",
    "        count = count +1\n",
    "print(count)  "
   ]
  },
  {
   "cell_type": "markdown",
   "metadata": {},
   "source": [
    "## Problem 11\n",
    "Assume s is a string of lower case characters.\n",
    "Write a program that prints the number of times the string 'bob' occurs in s. For example, if s = 'azcbobobegghakl', then your program should print\n",
    "### Number of times bob occurs is: 2\n"
   ]
  },
  {
   "cell_type": "code",
   "execution_count": 2,
   "metadata": {},
   "outputs": [
    {
     "name": "stdout",
     "output_type": "stream",
     "text": [
      "2\n"
     ]
    }
   ],
   "source": [
    "# Problem 11\n",
    "# Name: Your name\n",
    "# Time: 3:30 \n",
    "# ... your code goes here ... \n",
    "a = str('azcbobobegghakl')\n",
    "count = 0\n",
    "n = 0\n",
    "z = 3\n",
    "ans = 'bob'\n",
    "\n",
    "\n",
    "while z<len(a):\n",
    "    n = n+1\n",
    "    z = z+1\n",
    "    if a[n:z] in ans:\n",
    "        count = count +1\n",
    "    \n",
    "print(count)\n"
   ]
  },
  {
   "cell_type": "markdown",
   "metadata": {},
   "source": [
    "# Problem 12\n",
    "Assume s is a string of lower case characters.\n",
    "Write a program that prints the longest substring of s in which the letters occur in alphabetical order. For example, if s = 'azcbobobegghakl', then your program should print\n",
    "### Longest substring in alphabetical order is: beggh\n",
    "In the case of ties, print the first substring. For example, if s = 'abcbcd', then your program should print\n",
    "### Longest substring in alphabetical order is: abc\n",
    "Note: This problem may be challenging. We encourage you to work smart. If you've spent more than a few hours on this problem, we suggest that you move on to a different part of the course. If you have time, come back to this problem after you've had a break and cleared your head.\n"
   ]
  },
  {
   "cell_type": "code",
   "execution_count": 9,
   "metadata": {},
   "outputs": [
    {
     "name": "stdout",
     "output_type": "stream",
     "text": [
      "enter a string to solve the quesion azcbobobegghakl\n",
      "beggh\n"
     ]
    }
   ],
   "source": [
    "# Problem 12\n",
    "# Name: Your name\n",
    "# Time: 3:30 \n",
    "# ... your code goes here ... \n",
    "lat = input(str('enter a string to solve the quesion '))\n",
    "lst1 = list()\n",
    "n = 0\n",
    "lst2 = list()\n",
    "longest = ''\n",
    "while lat[n+1]>=lat[n]:\n",
    "    n = n+1\n",
    "    if n+2>len(lat):\n",
    "        lst1.append(lat[:n+1])\n",
    "        lst2.append(n+1)\n",
    "        #print(lst1)\n",
    "        for x in lst1 :\n",
    "            if len(x)>len(longest):\n",
    "                longest = x\n",
    "        print(longest)\n",
    "        break\n",
    "    while lat[n+1]<lat[n] :\n",
    "        lst1.append(lat[:n+1])\n",
    "        lat = lat[n+1:]\n",
    "        lst2.append(n+1)\n",
    "        #lst.clear()\n",
    "        n = 0"
   ]
  },
  {
   "cell_type": "code",
   "execution_count": 4,
   "metadata": {},
   "outputs": [
    {
     "data": {
      "text/plain": [
       "'cd'"
      ]
     },
     "execution_count": 4,
     "metadata": {},
     "output_type": "execute_result"
    }
   ],
   "source": [
    "x = 'abcd'\n",
    "x[2:]"
   ]
  },
  {
   "cell_type": "code",
   "execution_count": null,
   "metadata": {},
   "outputs": [],
   "source": []
  }
 ],
 "metadata": {
  "kernelspec": {
   "display_name": "Python 3",
   "language": "python",
   "name": "python3"
  },
  "language_info": {
   "codemirror_mode": {
    "name": "ipython",
    "version": 3
   },
   "file_extension": ".py",
   "mimetype": "text/x-python",
   "name": "python",
   "nbconvert_exporter": "python",
   "pygments_lexer": "ipython3",
   "version": "3.7.3"
  }
 },
 "nbformat": 4,
 "nbformat_minor": 2
}
