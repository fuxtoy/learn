{
 "cells": [
  {
   "cell_type": "markdown",
   "metadata": {},
   "source": [
    "# 基礎程式設計107學年度第1學期 程式 4  系別：XX系 學號：XXXXXX 姓名：XXX "
   ]
  },
  {
   "cell_type": "markdown",
   "metadata": {},
   "source": [
    "## Exercise: odd tuples\n",
    "### Problem 1.\tIn this problem, you'll write a procedure called oddTuples!\n",
    "Write a procedure called oddTuples, which takes a tuple as input, and returns a new tuple as output, where every other element of the input tuple is copied, starting with the first one. So if test is the tuple ('I', 'am', 'a', 'test', 'tuple'), then evaluating oddTuples on this input would return the tuple ('I', 'a', 'tuple').\n"
   ]
  },
  {
   "cell_type": "code",
   "execution_count": 15,
   "metadata": {},
   "outputs": [
    {
     "name": "stdout",
     "output_type": "stream",
     "text": [
      "('I', 'a', 'tuple')\n"
     ]
    }
   ],
   "source": [
    "# Problem 1\n",
    "# Name: Your name\n",
    "# Time: 3:30 \n",
    "# ... your code goes here ... \n",
    "z = ('I', 'am', 'a', 'test', 'tuple')\n",
    "a = []\n",
    "\n",
    "def oddTuples(aTup):\n",
    "    '''\n",
    "    aTup: a tuple\n",
    "    \n",
    "    returns: tuple, every other element of aTup. \n",
    "    '''\n",
    "    # Your Code Here\n",
    "    n =0\n",
    "    while n<len(z):\n",
    "        a.append(z[n])\n",
    "        \n",
    "        n =n +2\n",
    "    return a\n",
    "\n",
    "print(tuple(oddTuples(a)))"
   ]
  },
  {
   "cell_type": "markdown",
   "metadata": {},
   "source": [
    "## Exercise: apply to each \n",
    "### Here is the code for a function applyToEach:"
   ]
  },
  {
   "cell_type": "code",
   "execution_count": 6,
   "metadata": {},
   "outputs": [],
   "source": [
    "def applyToEach(L, f):\n",
    "    for i in range(len(L)):\n",
    "        L[i] = f(L[i])\n",
    "# Assume that\n",
    "testList = [1, -4, 8, -9]"
   ]
  },
  {
   "cell_type": "markdown",
   "metadata": {},
   "source": [
    "For each of the following questions (which you may assume is evaluated independently of the previous questions, so that testList has the value indicated above), provide an expression using applyToEach, so that after evaluation testList has the indicated value. You may need to write a simple procedure in each question to help with this process.<br>\n",
    "### Example Question:\n",
    "print(testList)<br>\n",
    "[5, -20, 40, -45]<br>\n"
   ]
  },
  {
   "cell_type": "code",
   "execution_count": 7,
   "metadata": {},
   "outputs": [
    {
     "name": "stdout",
     "output_type": "stream",
     "text": [
      "[5, -20, 40, -45]\n"
     ]
    }
   ],
   "source": [
    "# Solution to Example Question\n",
    "def timesFive(a):\n",
    "    return a * 5\n",
    "\n",
    "applyToEach(testList, timesFive)\n",
    "print(testList)"
   ]
  },
  {
   "cell_type": "markdown",
   "metadata": {},
   "source": [
    "### Problem 2\n",
    "print(testList)<br>\n",
    "  [1, 4, 8, 9]"
   ]
  },
  {
   "cell_type": "code",
   "execution_count": 10,
   "metadata": {},
   "outputs": [
    {
     "name": "stdout",
     "output_type": "stream",
     "text": [
      "[1, 4, 8, 9]\n"
     ]
    }
   ],
   "source": [
    "# Problem 2\n",
    "# Name: Your name\n",
    "# Time: 3:30 \n",
    "# ... your code goes here ... \n",
    "testList = [1, -4, 8, -9]\n",
    "def aaa(a):\n",
    "    return abs(a)\n",
    "applyToEach(testList, aaa)\n",
    "print(testList)"
   ]
  },
  {
   "cell_type": "markdown",
   "metadata": {},
   "source": [
    "### Problem 3\n",
    "print(testList)<br>\n",
    "  [2, -3, 9, -8]"
   ]
  },
  {
   "cell_type": "code",
   "execution_count": 11,
   "metadata": {},
   "outputs": [
    {
     "name": "stdout",
     "output_type": "stream",
     "text": [
      "[2, -3, 9, -8]\n"
     ]
    }
   ],
   "source": [
    "# Problem 3\n",
    "# Name: Your name\n",
    "# Time: 3:30 \n",
    "# ... your code goes here ... \n",
    "testList = [1, -4, 8, -9]\n",
    "def plus(a):\n",
    "    return a+1\n",
    "applyToEach(testList, plus)\n",
    "print(testList)"
   ]
  },
  {
   "cell_type": "markdown",
   "metadata": {},
   "source": [
    "### Problem 4\n",
    "print(testList)<br>\n",
    "  [1, 16, 64, 81]"
   ]
  },
  {
   "cell_type": "code",
   "execution_count": 13,
   "metadata": {},
   "outputs": [
    {
     "name": "stdout",
     "output_type": "stream",
     "text": [
      "[1, 16, 64, 81]\n"
     ]
    }
   ],
   "source": [
    "# Problem 4\n",
    "# Name: Your name\n",
    "# Time: 3:30 \n",
    "# ... your code goes here ... \n",
    "testList = [1, -4, 8, -9]\n",
    "def square(a):\n",
    "    return a**2\n",
    "applyToEach(testList, square)\n",
    "print(testList)"
   ]
  },
  {
   "cell_type": "markdown",
   "metadata": {},
   "source": [
    "## Exercise: how many\n",
    "### Consider the following sequence of expressions:"
   ]
  },
  {
   "cell_type": "code",
   "execution_count": null,
   "metadata": {},
   "outputs": [],
   "source": [
    "animals = { 'a': ['aardvark'], 'b': ['baboon'], 'c': ['coati']}\n",
    "\n",
    "animals['d'] = ['donkey']\n",
    "animals['d'].append('dog')\n",
    "animals['d'].append('dingo')"
   ]
  },
  {
   "cell_type": "markdown",
   "metadata": {},
   "source": [
    "### Problem 5. How many\n",
    "We want to write some simple procedures that work on dictionaries to return information.\n",
    "First, write a procedure, called how_many, which returns the sum of the number of values associated with a dictionary. <br>\n",
    "### For example:\n",
    "print(how_many(animals))<br>\n",
    "6\n",
    "\n"
   ]
  },
  {
   "cell_type": "code",
   "execution_count": 8,
   "metadata": {},
   "outputs": [
    {
     "name": "stdout",
     "output_type": "stream",
     "text": [
      "6\n"
     ]
    }
   ],
   "source": [
    "# Problem 5\n",
    "# Name: Your name\n",
    "# Time: 3:30 \n",
    "# ... your code goes here ... \n",
    "animals = { 'a': ['aardvark'], 'b': ['baboon'], 'c': ['coati']}\n",
    "\n",
    "animals['d'] = ['donkey']\n",
    "animals['d'].append('dog')\n",
    "animals['d'].append('dingo')\n",
    "def how_many(aDict):\n",
    "    '''\n",
    "    aDict: A dictionary, where all the values are lists.\n",
    "    returns: int, how many values are in the dictionary.\n",
    "    '''\n",
    "    # Your Code Here\n",
    "    # Your Code Here\n",
    "    n= 0\n",
    "    ans = 0 \n",
    "    a = list(animals.values())\n",
    "    while n < len(a):\n",
    "        ans  = ans +len(a[n])\n",
    "        n = n+1\n",
    "    return ans\n",
    "print(how_many(animals))"
   ]
  },
  {
   "cell_type": "markdown",
   "metadata": {},
   "source": [
    "## Exercise: biggest\n",
    "### Consider the following sequence of expressions:"
   ]
  },
  {
   "cell_type": "code",
   "execution_count": 4,
   "metadata": {},
   "outputs": [],
   "source": [
    "animals = { 'a': ['aardvark'], 'b': ['baboon'], 'c': ['coati']}\n",
    "\n",
    "animals['d'] = ['donkey']\n",
    "animals['d'].append('dog')\n",
    "animals['d'].append('dingo')"
   ]
  },
  {
   "cell_type": "markdown",
   "metadata": {},
   "source": [
    "### Problem 6. biggest\n",
    "We want to write some simple procedures that work on dictionaries to return information. <br>\n",
    "This time, write a procedure, called biggest, which returns the key corresponding to the entry with the largest number of values associated with it. If there is more than one such entry, return any one of the matching keys.\n",
    "### Example usage:\n",
    "biggest(animals) <br>\n",
    "'d' <br>\n",
    "If there are no values in the dictionary, biggest should return None."
   ]
  },
  {
   "cell_type": "code",
   "execution_count": 21,
   "metadata": {},
   "outputs": [
    {
     "name": "stdout",
     "output_type": "stream",
     "text": [
      "d\n"
     ]
    }
   ],
   "source": [
    "# Problem 6\n",
    "# Name: Your name\n",
    "# Time: 3:30 \n",
    "# ... your code goes here ... \n",
    "z=[]\n",
    "def biggest(aDict):\n",
    "    '''\n",
    "    aDict: A dictionary, where all the values are lists.\n",
    "    returns: The key with the largest number of values associated with it\n",
    "    '''\n",
    "    # Your Code Here\n",
    "    n = 0\n",
    "    a = list(animals.values())\n",
    "    b = list(animals.keys())\n",
    "    while len(a[n])>len(z):\n",
    "        z.clear()\n",
    "        z.append(n)\n",
    "        n =n+1\n",
    "    while len(a[n])==len(z):\n",
    "        n = n+1\n",
    "    return b[n]\n",
    "print(biggest(animals))"
   ]
  }
 ],
 "metadata": {
  "kernelspec": {
   "display_name": "Python 3",
   "language": "python",
   "name": "python3"
  },
  "language_info": {
   "codemirror_mode": {
    "name": "ipython",
    "version": 3
   },
   "file_extension": ".py",
   "mimetype": "text/x-python",
   "name": "python",
   "nbconvert_exporter": "python",
   "pygments_lexer": "ipython3",
   "version": "3.7.3"
  }
 },
 "nbformat": 4,
 "nbformat_minor": 2
}
