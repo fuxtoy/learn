{
 "cells": [
  {
   "cell_type": "markdown",
   "metadata": {},
   "source": [
    "# 基礎程式設計107學年度第1學期 程式 練習題1  系別：XX系 學號：XXXXXX 姓名：XXX "
   ]
  },
  {
   "cell_type": "markdown",
   "metadata": {},
   "source": [
    "# 程式範例 1\n",
    "## 求開根號 x之值\n",
    "1. Start with a guess, g\n",
    "2. If g*g is close enough to x, stop and say g is answer!\n",
    "3. Otherwise make a new guess by averaging g and x/g\n",
    "4. Using the new guess, repeat process until close enough!"
   ]
  },
  {
   "cell_type": "markdown",
   "metadata": {},
   "source": [
    "## 虛擬碼\n",
    "1. input x, g, delta\n",
    "2. Repeat until stop\n",
    "3.   if abs(g*g - x) < delta then\n",
    "4.      output g\n",
    "5.      stop\n",
    "6.   else\n",
    "7.      g <- (g + x/g)/2\n",
    "8. Output End"
   ]
  },
  {
   "cell_type": "code",
   "execution_count": 1,
   "metadata": {},
   "outputs": [
    {
     "name": "stdout",
     "output_type": "stream",
     "text": [
      "Enter a guess number:16\n",
      "The answer is: 4.000000636692939\n",
      "End\n"
     ]
    }
   ],
   "source": [
    "# Problem 範例\n",
    "# Name: Your name\n",
    "# Time: 3:30 \n",
    "# ... your code goes here ... \n",
    "\n",
    "x = 16\n",
    "delta = 0.0001\n",
    "g = int(input(\"Enter a guess number:\"))\n",
    "\n",
    "while True:\n",
    "    if abs(g*g - x) < delta:\n",
    "        print(\"The answer is:\", g)\n",
    "        break\n",
    "    else:\n",
    "        g = (g + x/g)/2\n",
    "print(\"End\")"
   ]
  },
  {
   "cell_type": "markdown",
   "metadata": {},
   "source": [
    "\n",
    "# 1. 求22/7至小數點後n位\n"
   ]
  },
  {
   "cell_type": "code",
   "execution_count": null,
   "metadata": {},
   "outputs": [],
   "source": [
    "# 虛擬碼\n",
    "input n , x ,z\n",
    "if  n%6 == 0 then \n",
    "output z+int(n/6)*x\n",
    "if  n%6 == 1 then \n",
    "output z+int(n/6)*x+'1'\n",
    "if  n%6 == 2 then \n",
    "output z+int(n/6)*x+'14'\n",
    "if  n%6 == 3 then \n",
    "output z+int(n/6)*x+'142'\n",
    "if  n%6 == 4 then \n",
    "output z+int(n/6)*x+'1428'\n",
    "if  n%6 == 5 then \n",
    "output z+int(n/6)*x+'14285'\n",
    "\n"
   ]
  },
  {
   "cell_type": "code",
   "execution_count": 5,
   "metadata": {},
   "outputs": [
    {
     "name": "stdout",
     "output_type": "stream",
     "text": [
      "enter n  to solve  2\n",
      "3.14\n"
     ]
    }
   ],
   "source": [
    "# Problem 1\n",
    "# Name: Your name\n",
    "# Time: 3:30 \n",
    "# ... your code goes here ... \n",
    "n = int(input('enter n  to solve  '))\n",
    "x = '142857' \n",
    "z = '3.'\n",
    "if n%6 == 0:\n",
    "    print(z+int(n/6)*x)\n",
    "elif n%6 == 1:\n",
    "    print(z+int(n/6)*x+'1')\n",
    "elif n%6 == 2:\n",
    "    print(z+int(n/6)*x+'14')\n",
    "elif n%6 == 3:\n",
    "    print(z+int(n/6)*x+'142')\n",
    "elif n%6 == 4:\n",
    "    print(z+int(n/6)*x+'1428')\n",
    "else:\n",
    "    print(z+int(n/6)*x+'14285')"
   ]
  },
  {
   "cell_type": "markdown",
   "metadata": {},
   "source": [
    "# 2. 求(1\\*2)/(3\\*4)+(5\\*6)/(7\\*8)+…+(97\\*98)/(99\\*100)=？"
   ]
  },
  {
   "cell_type": "code",
   "execution_count": null,
   "metadata": {},
   "outputs": [],
   "source": [
    "# 虛擬碼\n",
    "input n ,count \n",
    "repeat until stop \n",
    "while n<100\n",
    "count <- (n-3)*(n-2)/(n-1)*n\n",
    "ouput count \n",
    "\n",
    "\n",
    "\n",
    "\n",
    "\n",
    "\n",
    "\n"
   ]
  },
  {
   "cell_type": "code",
   "execution_count": 7,
   "metadata": {},
   "outputs": [
    {
     "name": "stdout",
     "output_type": "stream",
     "text": [
      "308759.3345530151\n"
     ]
    }
   ],
   "source": [
    "# Problem 2\n",
    "# Name: Your name\n",
    "# Time: 3:30 \n",
    "# ... your code goes here ... \n",
    "n= 4\n",
    "count = 0\n",
    "while n<100:\n",
    "    count = count+ (n-3)*(n-2)/(n-1)*n\n",
    "    n = n+1\n",
    "print(count)\n",
    "\n",
    "\n",
    "\n",
    "\n"
   ]
  },
  {
   "cell_type": "markdown",
   "metadata": {},
   "source": [
    "# 3. 輸入一整數n值，計算1-1/2+1/3-1/4+...+(-)1/N之值"
   ]
  },
  {
   "cell_type": "code",
   "execution_count": null,
   "metadata": {},
   "outputs": [],
   "source": [
    "# 虛擬碼\n",
    "input b , N\n",
    "repeat until stop\n",
    "while b<=N then \n",
    "count ans = ans +1/b-(1/(b-1))\n",
    "b =b +1 so it can loop \n",
    "if N <b then \n",
    "isolat it \n",
    "if N == 2 then\n",
    "ans = -1/2\n",
    "if N == 1 then \n",
    "ans = 0\n",
    "ouput ans +1 \n",
    "\n",
    "\n",
    "\n",
    "\n",
    "\n"
   ]
  },
  {
   "cell_type": "code",
   "execution_count": 6,
   "metadata": {},
   "outputs": [
    {
     "name": "stdout",
     "output_type": "stream",
     "text": [
      "enter the number to solve  100\n",
      "0.5098989898989901\n"
     ]
    }
   ],
   "source": [
    "# Problem 3\n",
    "# Name: Your name\n",
    "# Time: 3:30 \n",
    "# ... your code goes here ... \n",
    "b = 3\n",
    "N = int(input('enter the number to solve  '))\n",
    "while b<=N:\n",
    "    ans = ans + 1/b-(1/(b-1))\n",
    "    b = b+1\n",
    "if N == 2:\n",
    "    ans = -1/2\n",
    "if N == 1:\n",
    "    ans = 0\n",
    "print(ans+1)    \n",
    "\n",
    "\n",
    "\n",
    "\n"
   ]
  },
  {
   "cell_type": "markdown",
   "metadata": {},
   "source": [
    "# 4. 若A與B都是1~9的整數，試找出有那些(A,B)之值可以符合下列之條件：AAB+BB=BAA。"
   ]
  },
  {
   "cell_type": "code",
   "execution_count": null,
   "metadata": {},
   "outputs": [],
   "source": [
    "# 虛擬碼\n",
    "repeat 9 times of range(1:10) for a\n",
    "turn a , b to str\n",
    "add string a twice with string b toghter to be aab\n",
    "add string b twice \n",
    "add string a with string b twice \n",
    "turn aab ,bb, abb to interger \n",
    "repeat until stop \n",
    "while aab +bb = abb\n",
    "output a,b\n",
    "\n",
    "\n",
    "\n"
   ]
  },
  {
   "cell_type": "code",
   "execution_count": 5,
   "metadata": {},
   "outputs": [
    {
     "name": "stdout",
     "output_type": "stream",
     "text": [
      "a = 8 b = 9\n"
     ]
    }
   ],
   "source": [
    "# Problem 4\n",
    "# Name: Your name\n",
    "# Time: 3:30 \n",
    "# ... your code goes here ... \n",
    "for a in range(1,10):\n",
    "    for b in range(1,10):\n",
    "        a = str(a)\n",
    "        b = str(b)\n",
    "        aab = a+a+b\n",
    "        bb = b+b\n",
    "        baa = b+a+a\n",
    "        z1 = int(aab)\n",
    "        z2 = int(bb)\n",
    "        z3 = int(baa)\n",
    "        if z1 + z2 == z3 :\n",
    "            print('a =', a,'b =', b)\n",
    "\n",
    "\n",
    "\n"
   ]
  },
  {
   "cell_type": "markdown",
   "metadata": {},
   "source": [
    "# 5. 輸入a, b, c三數，求ax\\*\\*2+b\\*x+c=0之根。"
   ]
  },
  {
   "cell_type": "code",
   "execution_count": null,
   "metadata": {},
   "outputs": [],
   "source": [
    "# 虛擬碼\n",
    "import math \n",
    "input a, b , c\n",
    "count squrt(b**2-4*a*c)\n",
    "count the answer -b+-z/2*a\n",
    "output ans \n",
    "\n",
    "\n",
    "\n",
    "\n",
    "\n",
    "\n",
    "\n"
   ]
  },
  {
   "cell_type": "code",
   "execution_count": 1,
   "metadata": {},
   "outputs": [
    {
     "name": "stdout",
     "output_type": "stream",
     "text": [
      "enter a number for a 3\n",
      "enter a number for b 2\n",
      "enter a number for c 3\n",
      "6.485281374238571 -10.485281374238571\n"
     ]
    }
   ],
   "source": [
    "# Problem 5\n",
    "# Name: Your name\n",
    "# Time: 3:30 \n",
    "# ... your code goes here ... \n",
    "import math \n",
    "a = int(input('enter a number for a '))\n",
    "b = int(input('enter a number for b '))\n",
    "c = int(input('enter a number for c '))\n",
    "z = math.sqrt(abs(b**2-4*a*c))\n",
    "ans = -b+z/2*a\n",
    "ans2 = -b-z/2*a\n",
    "print(ans,ans2)\n",
    "\n",
    "\n"
   ]
  }
 ],
 "metadata": {
  "kernelspec": {
   "display_name": "Python 3",
   "language": "python",
   "name": "python3"
  },
  "language_info": {
   "codemirror_mode": {
    "name": "ipython",
    "version": 3
   },
   "file_extension": ".py",
   "mimetype": "text/x-python",
   "name": "python",
   "nbconvert_exporter": "python",
   "pygments_lexer": "ipython3",
   "version": "3.7.3"
  }
 },
 "nbformat": 4,
 "nbformat_minor": 2
}
